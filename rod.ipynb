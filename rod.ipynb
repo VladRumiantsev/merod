{
 "cells": [
  {
   "cell_type": "code",
   "execution_count": 10,
   "id": "21fdb3f5-2668-4eb9-8571-7d3763556e73",
   "metadata": {
    "tags": []
   },
   "outputs": [
    {
     "name": "stdout",
     "output_type": "stream",
     "text": [
      "Recommended lengths: [1, 2, 2, 2, 2, 2, 2, 2]\n"
     ]
    }
   ],
   "source": [
    "def rod_cut(n, prices):\n",
    "    max_revenue = [0] * n\n",
    "    cuts = [0] * n\n",
    "    for length in range(1, n + 1):\n",
    "        max_value = float('-inf')\n",
    "        for cut in range(1, length + 1):  \n",
    "            if cut <= len(prices):\n",
    "                current_value = prices[cut - 1] + (max_revenue[length - cut] if length - cut >= 0 else 0)\n",
    "                if current_value > max_value:\n",
    "                    max_value = current_value\n",
    "                    cuts[length - 1] = cut\n",
    "        max_revenue[length - 1] = max_value\n",
    "    recommended_lengths = []\n",
    "    length = n\n",
    "    while length > 0:\n",
    "        recommended_lengths.append(cuts[length - 1])\n",
    "        length -= cuts[length - 1]\n",
    "\n",
    "    recommended_lengths.reverse() \n",
    "    return recommended_lengths\n",
    "\n",
    "n = 15\n",
    "prices = [2, 6, 8, 10, 11, 16, 18, 20]  \n",
    "\n",
    "recommended_lengths = rod_cut(n, prices)\n",
    "print(\"Recommended lengths:\", recommended_lengths)"
   ]
  },
  {
   "cell_type": "code",
   "execution_count": null,
   "id": "c2afb240-f660-423a-afc8-32eb380b998b",
   "metadata": {},
   "outputs": [],
   "source": []
  },
  {
   "cell_type": "code",
   "execution_count": null,
   "id": "9976d8d2-f836-4ce6-83de-117d19509798",
   "metadata": {},
   "outputs": [],
   "source": []
  }
 ],
 "metadata": {
  "kernelspec": {
   "display_name": "Python 3 (ipykernel)",
   "language": "python",
   "name": "python3"
  },
  "language_info": {
   "codemirror_mode": {
    "name": "ipython",
    "version": 3
   },
   "file_extension": ".py",
   "mimetype": "text/x-python",
   "name": "python",
   "nbconvert_exporter": "python",
   "pygments_lexer": "ipython3",
   "version": "3.10.8"
  }
 },
 "nbformat": 4,
 "nbformat_minor": 5
}
